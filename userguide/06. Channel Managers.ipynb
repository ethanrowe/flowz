{
 "cells": [
  {
   "cell_type": "code",
   "execution_count": 1,
   "metadata": {
    "collapsed": false
   },
   "outputs": [],
   "source": [
    "from __future__ import absolute_import\n",
    "from __future__ import print_function\n",
    "\n",
    "from tornado import gen\n",
    "from flowz import app\n",
    "from flowz.channels import IterChannel\n",
    "from flowz.channels import management as mgmt\n",
    "from flowz.artifacts import ExtantArtifact, DerivedArtifact, KeyedArtifact\n",
    "from flowz.util import merge_keyed_channels"
   ]
  },
  {
   "cell_type": "code",
   "execution_count": 2,
   "metadata": {
    "collapsed": false
   },
   "outputs": [],
   "source": [
    "def print_chans(*chans, **kwargs):\n",
    "    # This is a bit more elaborate than before to resolve artifacts\n",
    "    mode = kwargs.get('mode', 'ensure')\n",
    "    func = kwargs.get('func', print)\n",
    "    app.Flo([chan.map(lambda y: getattr(y, mode)()).each_ready().map(func) for chan in chans]).run()"
   ]
  },
  {
   "cell_type": "markdown",
   "metadata": {},
   "source": [
    "# Channel Managers"
   ]
  },
  {
   "cell_type": "markdown",
   "metadata": {},
   "source": [
    "When constructing a large graph of channels with interdependencies, it can be difficult to keep track of whether you have done a proper number of `tee()` calls.  Because the danger of forgetting to tee can be so grave, one can tend to over-tee, leading to memory leaks.\n",
    "\n",
    "Also, there are patterns (like the Possible/Extant/All pattern) that are useful when setting up graphs, but, in the clutter of linear code creating channel after channel, it can become unclear when such patterns are in use or whether they are done properly.\n",
    "\n",
    "Finally, in the spirit of the rest of flowz, it would be nice if channel construction were done lazily, strictly on an as-needed basis.\n",
    "\n",
    "The `ChannelManager` aims to resolve all of those issues.  Its use is, as usual, best demonstrated before describing.\n",
    "\n",
    "We'll start with some code borrowed from the Possible/Extant/All pattern example in chapter 4:"
   ]
  },
  {
   "cell_type": "code",
   "execution_count": 3,
   "metadata": {
    "collapsed": false
   },
   "outputs": [],
   "source": [
    "def expensive_deriver(num):\n",
    "    # 10 minutes pass...\n",
    "    return num * 100\n",
    "\n",
    "# Our fake durable storage holding the first 8 derived elements\n",
    "storage = {num: expensive_deriver(num) for num in range(8)}\n",
    "\n",
    "# The ExtantArtifact accessing that data\n",
    "class ExampleExtantArtifact(ExtantArtifact):\n",
    "    def __init__(self, num):\n",
    "        super(ExampleExtantArtifact, self).__init__(self.get_me, name='ExampleExtantArtifact')\n",
    "        self.num = num\n",
    "\n",
    "    @gen.coroutine\n",
    "    def get_me(self):\n",
    "        raise gen.Return(storage[self.num])"
   ]
  },
  {
   "cell_type": "markdown",
   "metadata": {
    "collapsed": true
   },
   "source": [
    "Now the `ChannelManager` code:"
   ]
  },
  {
   "cell_type": "code",
   "execution_count": 4,
   "metadata": {
    "collapsed": false
   },
   "outputs": [],
   "source": [
    "class GuideChannelManager(object):\n",
    "    def __init__(self):\n",
    "        # sets the 'channel_manager' property, which must exist on the class\n",
    "        self.channel_manager = mgmt.ChannelManager()\n",
    "\n",
    "    @mgmt.channelproperty\n",
    "    def extant(self):\n",
    "        print('Creating extant channel')\n",
    "        return IterChannel(KeyedArtifact(i, ExampleExtantArtifact(i)) for i in sorted(storage.keys()))\n",
    "\n",
    "    @mgmt.channelproperty\n",
    "    def possible(self):\n",
    "        print('Creating possible channel')\n",
    "        return IterChannel(KeyedArtifact(i, DerivedArtifact(expensive_deriver, i)) for i in range(10))\n",
    "\n",
    "    @mgmt.channelproperty\n",
    "    def all(self):\n",
    "        print('Creating all channel')\n",
    "        return merge_keyed_channels(self.possible, self.extant)"
   ]
  },
  {
   "cell_type": "markdown",
   "metadata": {
    "collapsed": true
   },
   "source": [
    "Note that this class is not actually a subclass of `ChannelManager`, but it makes use of it in two ways:\n",
    "1. It defines a `channel_manager` property on itself that is a private instance of a `ChannelManager`\n",
    "2. It makes references to the `@mgmt.channelproperty` decorator above three methods.\n",
    "\n",
    "Now using this class is straightforward..."
   ]
  },
  {
   "cell_type": "code",
   "execution_count": 5,
   "metadata": {
    "collapsed": false
   },
   "outputs": [
    {
     "name": "stdout",
     "output_type": "stream",
     "text": [
      "Creating all channel\n",
      "Creating possible channel\n",
      "Creating extant channel\n",
      "0\n",
      "100\n",
      "200\n",
      "300\n",
      "400\n",
      "500\n",
      "600\n",
      "700\n",
      "800\n",
      "900\n"
     ]
    }
   ],
   "source": [
    "print_chans(GuideChannelManager().all, mode='get')"
   ]
  },
  {
   "cell_type": "markdown",
   "metadata": {},
   "source": [
    "Nice.  It worked.  Here are the steps that happened:\n",
    "1. The `GuideChannelManager` object was instantiated, which did little other than instantiate a `ChannelManager`.\n",
    "2. The `all` property was asked of the `GuideChannelManager`.\n",
    "3. That called the `all()` method, which referenced the `possible` and `extant` properties.\n",
    "4. Those references, in turn, called the `possible()` and `extant()` methods.\n",
    "5. Each of those methods created an `IterChannel` and returned it.\n",
    "6. The decorators on those methods captured the channels and stored them internally. Subsequent accesses of these properties would no longer call the methods, but, rather, return a `tee()` of their corresponding channels.\n",
    "7. Control returned to the `all()` method where the two channels were used as input in the creation of a new channel, which is returned.\n",
    "8. Again, the decorator on `all()` stored this channel and would `tee()` it on any subsequent requests for the `all` property.\n",
    "9. The channel returned from the `all` property was passed to `print_chans()` and drained.\n",
    "\n",
    "Very notably, _no_ tees were performed on any of these channels.  In this configuration, they were all needed only once, so that's what this pattern did.  If hand-coded, the final channel would likely have worked with tees of the first two channels in an abundance of caution, possibly causing leaks of the original channels."
   ]
  },
  {
   "cell_type": "code",
   "execution_count": 6,
   "metadata": {
    "collapsed": true
   },
   "outputs": [],
   "source": [
    "# recreate the storage to not mess up other parts of the notebook when run out of order\n",
    "storage = {num: expensive_deriver(num) for num in range(8)}"
   ]
  },
  {
   "cell_type": "markdown",
   "metadata": {},
   "source": [
    "## Choosing named targets"
   ]
  },
  {
   "cell_type": "markdown",
   "metadata": {},
   "source": [
    "flowz is very likely to be principally used in scripts run as periodic (e.g., nightly) processes to synthesize and analyze data coming in from external sources.  In such scripts, in can be handy to assign well-known names to some of the stages and choose the target via a script parameter.  Here is a possible pattern for doing that."
   ]
  },
  {
   "cell_type": "code",
   "execution_count": 7,
   "metadata": {
    "collapsed": true
   },
   "outputs": [],
   "source": [
    "targets = dict()\n",
    "\n",
    "def configure_channels():\n",
    "    mgr = GuideChannelManager()\n",
    "\n",
    "    targets['possible'] = lambda: mgr.possible\n",
    "    targets['extant'] = lambda: mgr.extant\n",
    "    targets['all'] = lambda: mgr.all\n",
    "    targets['default'] = targets['all']\n",
    "\n",
    "configure_channels()\n",
    "\n",
    "def run_target(name='default'):\n",
    "    print_chans(targets[name](), mode='get')"
   ]
  },
  {
   "cell_type": "markdown",
   "metadata": {},
   "source": [
    "With that in place, the `main()` processing of a script could capture the command-line arguments and end up calling a target like:"
   ]
  },
  {
   "cell_type": "code",
   "execution_count": 8,
   "metadata": {
    "collapsed": false
   },
   "outputs": [
    {
     "name": "stdout",
     "output_type": "stream",
     "text": [
      "Creating extant channel\n",
      "0\n",
      "100\n",
      "200\n",
      "300\n",
      "400\n",
      "500\n",
      "600\n",
      "700\n"
     ]
    }
   ],
   "source": [
    "run_target('extant')"
   ]
  },
  {
   "cell_type": "markdown",
   "metadata": {},
   "source": [
    "Or..."
   ]
  },
  {
   "cell_type": "code",
   "execution_count": 9,
   "metadata": {
    "collapsed": true
   },
   "outputs": [],
   "source": [
    "# Calling again to act like a fresh running of the script\n",
    "configure_channels()"
   ]
  },
  {
   "cell_type": "code",
   "execution_count": 10,
   "metadata": {
    "collapsed": false
   },
   "outputs": [
    {
     "name": "stdout",
     "output_type": "stream",
     "text": [
      "Creating all channel\n",
      "Creating possible channel\n",
      "Creating extant channel\n",
      "0\n",
      "100\n",
      "200\n",
      "300\n",
      "400\n",
      "500\n",
      "600\n",
      "700\n",
      "800\n",
      "900\n"
     ]
    }
   ],
   "source": [
    "run_target()"
   ]
  },
  {
   "cell_type": "code",
   "execution_count": 11,
   "metadata": {
    "collapsed": true
   },
   "outputs": [],
   "source": [
    "# recreate the storage to not mess up other parts of the notebook when run out of order\n",
    "storage = {num: expensive_deriver(num) for num in range(8)}"
   ]
  }
 ],
 "metadata": {
  "kernelspec": {
   "display_name": "Python 2",
   "language": "python",
   "name": "python2"
  },
  "language_info": {
   "codemirror_mode": {
    "name": "ipython",
    "version": 2
   },
   "file_extension": ".py",
   "mimetype": "text/x-python",
   "name": "python",
   "nbconvert_exporter": "python",
   "pygments_lexer": "ipython2",
   "version": "2.7.11"
  }
 },
 "nbformat": 4,
 "nbformat_minor": 0
}
