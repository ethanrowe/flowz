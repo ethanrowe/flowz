{
 "cells": [
  {
   "cell_type": "code",
   "execution_count": 1,
   "metadata": {
    "collapsed": false
   },
   "outputs": [],
   "source": [
    "from __future__ import absolute_import\n",
    "from __future__ import print_function\n",
    "\n",
    "from tornado import gen\n",
    "from flowz import app\n",
    "from flowz.channels import *\n",
    "\n",
    "from flowz.artifacts import *"
   ]
  },
  {
   "cell_type": "code",
   "execution_count": 2,
   "metadata": {
    "collapsed": false
   },
   "outputs": [],
   "source": [
    "import logging\n",
    "from logging import config as logconf\n",
    "def config_logging(level='DEBUG'):\n",
    "    logconf.dictConfig({\n",
    "            'version': 1,\n",
    "            'loggers': {},\n",
    "            'disable_existing_loggers': 0,\n",
    "            'root': {\n",
    "                'level': level,\n",
    "                'handlers': ['default_handler'],\n",
    "                },\n",
    "            'handlers': {\n",
    "                'default_handler': {\n",
    "                    'class': 'logging.StreamHandler',\n",
    "                    'stream': 'ext://sys.stdout',\n",
    "                    },\n",
    "                },\n",
    "            }\n",
    "    )\n",
    "config_logging('DEBUG')\n",
    "logger = logging.getLogger('foo')"
   ]
  },
  {
   "cell_type": "code",
   "execution_count": 3,
   "metadata": {
    "collapsed": true
   },
   "outputs": [],
   "source": [
    "def print_chans(*chans):\n",
    "    # This is a bit more elaborate than before to resolve artifacts\n",
    "    app.Flo([chan.map(lambda y: getattr(y, 'get')()).each_ready().map(print) for chan in chans]).run()"
   ]
  },
  {
   "cell_type": "markdown",
   "metadata": {},
   "source": [
    "# Introduction to Artifacts"
   ]
  },
  {
   "cell_type": "markdown",
   "metadata": {},
   "source": [
    "## Background"
   ]
  },
  {
   "cell_type": "code",
   "execution_count": null,
   "metadata": {
    "collapsed": true
   },
   "outputs": [],
   "source": []
  }
 ],
 "metadata": {
  "kernelspec": {
   "display_name": "Python 2",
   "language": "python",
   "name": "python2"
  },
  "language_info": {
   "codemirror_mode": {
    "name": "ipython",
    "version": 2
   },
   "file_extension": ".py",
   "mimetype": "text/x-python",
   "name": "python",
   "nbconvert_exporter": "python",
   "pygments_lexer": "ipython2",
   "version": "2.7.11"
  }
 },
 "nbformat": 4,
 "nbformat_minor": 0
}
