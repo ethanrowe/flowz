{
 "cells": [
  {
   "cell_type": "code",
   "execution_count": 1,
   "metadata": {
    "collapsed": false
   },
   "outputs": [],
   "source": [
    "from __future__ import absolute_import\n",
    "from __future__ import print_function\n",
    "\n",
    "from tornado import gen\n",
    "from flowz import app\n",
    "from flowz.channels import *"
   ]
  },
  {
   "cell_type": "code",
   "execution_count": 2,
   "metadata": {
    "collapsed": false
   },
   "outputs": [],
   "source": [
    "import logging\n",
    "from logging import config as logconf\n",
    "logconf.dictConfig({\n",
    "        'version': 1,\n",
    "        'loggers': {},\n",
    "        'disable_existing_loggers': 0,\n",
    "        'root': {\n",
    "            'level': 'DEBUG',\n",
    "            'handlers': ['default_handler'],\n",
    "            },\n",
    "        'handlers': {\n",
    "            'default_handler': {\n",
    "                'class': 'logging.StreamHandler',\n",
    "                'stream': 'ext://sys.stdout',\n",
    "                },\n",
    "            },\n",
    "        }\n",
    ")\n",
    "logger = logging.getLogger('foo')"
   ]
  },
  {
   "cell_type": "markdown",
   "metadata": {},
   "source": [
    "# Introduction to Channels"
   ]
  },
  {
   "cell_type": "markdown",
   "metadata": {},
   "source": [
    "## Channel"
   ]
  },
  {
   "cell_type": "markdown",
   "metadata": {},
   "source": [
    "A `Channel` gives a means of asynchronous iteration over messages coming from some upstream source.\n",
    "\n",
    "A consumer of a `Channel` uses its `next()` method to iteratively receive messages as the channel makes them available; when the channel is exhausted, subsequent invocations of `next()` result in a `ChannelDone` exception.  Those calls to `next()`, however, would need to be made in the context of a tornado coroutine, which gets complex pretty quickly.\n",
    "\n",
    "In practice, though, channels are set up declaratively and passed to an `app.Flo` object to run exhaustively through them via the `run()` method.  That behavior will generally be used in this guide via this function:"
   ]
  },
  {
   "cell_type": "code",
   "execution_count": 3,
   "metadata": {
    "collapsed": true
   },
   "outputs": [],
   "source": [
    "def print_chans(*chans):\n",
    "    app.Flo([chan.map(print) for chan in chans]).run()"
   ]
  },
  {
   "cell_type": "markdown",
   "metadata": {},
   "source": [
    "The plain `Channel` class is effectivley abstract, with many useful implementations via subclasses.  Many of the important subclasses will be covered in this guide."
   ]
  },
  {
   "cell_type": "markdown",
   "metadata": {},
   "source": [
    "## IterChannel"
   ]
  },
  {
   "cell_type": "markdown",
   "metadata": {},
   "source": [
    "An `IterChannel` converts an iterable into a channel.  This is particularly helpful in this guide for illustrative purposes:"
   ]
  },
  {
   "cell_type": "code",
   "execution_count": 4,
   "metadata": {
    "collapsed": false
   },
   "outputs": [
    {
     "name": "stdout",
     "output_type": "stream",
     "text": [
      "0\n",
      "1\n",
      "2\n",
      "3\n",
      "4\n"
     ]
    }
   ],
   "source": [
    "chan = IterChannel(xrange(5))\n",
    "print_chans(chan)"
   ]
  },
  {
   "cell_type": "markdown",
   "metadata": {},
   "source": [
    "Those innocuous lines did the following things:\n",
    "1. Wrapped an xrange iterator with an IterChannel.\n",
    "2. Wrapped that channel with a MapChannel (see below) that will print each element in the wrapped channel.\n",
    "3. Passed that MapChannel to an `app.Flo` object.\n",
    "4. Fully iterated (asychronously) over that channel.\n",
    "\n",
    "For now, that seems like a lot a hullabaloo for iterating over five numbers, but the value will become clearer as time goes on."
   ]
  },
  {
   "cell_type": "markdown",
   "metadata": {},
   "source": [
    "## TeeChannel [.tee()]"
   ]
  },
  {
   "cell_type": "markdown",
   "metadata": {},
   "source": [
    "A `TeeChannel` wraps another channel to provide a way to _independently_ iterate over the wrapped channel starting from the same point forwards.  It doesn't create a copy of the channel or the objects in it, but just presents the same objects in the same order via an independent iterator.\n",
    "\n",
    "In practice, you would never use the `TeeChannel` class directly; you would, instead, just call `.tee()` on an existing channel."
   ]
  },
  {
   "cell_type": "code",
   "execution_count": 5,
   "metadata": {
    "collapsed": false
   },
   "outputs": [
    {
     "name": "stdout",
     "output_type": "stream",
     "text": [
      "0\n",
      "1\n",
      "2\n",
      "3\n",
      "4\n",
      "----\n",
      "0\n",
      "1\n",
      "2\n",
      "3\n",
      "4\n"
     ]
    }
   ],
   "source": [
    "chan1 = IterChannel(xrange(5))\n",
    "chan2 = chan1.tee()\n",
    "print_chans(chan1)\n",
    "print('----')\n",
    "print_chans(chan2)"
   ]
  },
  {
   "cell_type": "markdown",
   "metadata": {},
   "source": [
    "In almost every respect, you can effectively think of chan2 as being an `IterChannel` as well (though `type(chan2)` would not agree).\n",
    "\n",
    "A slight modification of that example gives a first chance to demonstrate the asynchronous nature of the iteration."
   ]
  },
  {
   "cell_type": "code",
   "execution_count": 6,
   "metadata": {
    "collapsed": false
   },
   "outputs": [
    {
     "name": "stdout",
     "output_type": "stream",
     "text": [
      "0\n",
      "0\n",
      "1\n",
      "1\n",
      "2\n",
      "2\n",
      "3\n",
      "3\n",
      "4\n",
      "4\n"
     ]
    }
   ],
   "source": [
    "chan1 = IterChannel(xrange(5))\n",
    "chan2 = chan1.tee()\n",
    "print_chans(chan1, chan2)"
   ]
  },
  {
   "cell_type": "markdown",
   "metadata": {},
   "source": [
    "Note that the printing of the number interleaves between the two channels.  That is a consequence of the logic running on a tornado loop with each channel yielding control back and forth to each other (and any other coroutines involved).  That asynchrony becomes very important and useful as the channel get more complicated and involve accessing cloud-based storage and other sources that are best accessed asynchronously themselves."
   ]
  },
  {
   "cell_type": "markdown",
   "metadata": {},
   "source": [
    "## MapChannel [.map(mapper)]"
   ]
  },
  {
   "cell_type": "markdown",
   "metadata": {},
   "source": [
    "A `MapChannel` wraps another channel and applies a function to each of the elements in the underlying channel."
   ]
  },
  {
   "cell_type": "code",
   "execution_count": 7,
   "metadata": {
    "collapsed": false
   },
   "outputs": [
    {
     "name": "stdout",
     "output_type": "stream",
     "text": [
      "0\n",
      "2\n",
      "4\n",
      "6\n",
      "8\n"
     ]
    }
   ],
   "source": [
    "chan = MapChannel(IterChannel(xrange(5)), lambda x: x*2)\n",
    "print_chans(chan)"
   ]
  },
  {
   "cell_type": "markdown",
   "metadata": {},
   "source": [
    "The same logic can be performed on any channel with the helper method `.map(mapper)`:"
   ]
  },
  {
   "cell_type": "code",
   "execution_count": 8,
   "metadata": {
    "collapsed": false
   },
   "outputs": [
    {
     "name": "stdout",
     "output_type": "stream",
     "text": [
      "0\n",
      "2\n",
      "4\n",
      "6\n",
      "8\n"
     ]
    }
   ],
   "source": [
    "chan = IterChannel(xrange(5)).map(lambda x: x*2)\n",
    "print_chans(chan)"
   ]
  },
  {
   "cell_type": "markdown",
   "metadata": {},
   "source": [
    "Almost all of the useful `Channel` subclasses are accessible via helper methods on the `Channel` class, so the rest of this guide will generally demonstrate the helper methods only."
   ]
  },
  {
   "cell_type": "markdown",
   "metadata": {},
   "source": [
    "### Indexing"
   ]
  },
  {
   "cell_type": "markdown",
   "metadata": {},
   "source": [
    "An occasionally handy variant on mapping is to use the standard python indexing operator `[]` to perform the indexing operation on each element of the channel."
   ]
  },
  {
   "cell_type": "code",
   "execution_count": 9,
   "metadata": {
    "collapsed": false
   },
   "outputs": [
    {
     "name": "stdout",
     "output_type": "stream",
     "text": [
      "Cleese\n",
      "Idle\n"
     ]
    }
   ],
   "source": [
    "chan = IterChannel(({'first': 'John', 'last': 'Cleese'}, {'first': 'Eric', 'last': 'Idle'}))['last']\n",
    "print_chans(chan)"
   ]
  },
  {
   "cell_type": "markdown",
   "metadata": {},
   "source": [
    "## FlatMapChannel [.flat_map(mapper)]"
   ]
  },
  {
   "cell_type": "markdown",
   "metadata": {},
   "source": [
    "A variant on the `MapChannel` is a `FlatMapChannel`. Its mapper can return an iterable, and the items will be emitted one by one by the channel.  Note the difference in behavior below."
   ]
  },
  {
   "cell_type": "code",
   "execution_count": 10,
   "metadata": {
    "collapsed": false
   },
   "outputs": [
    {
     "name": "stdout",
     "output_type": "stream",
     "text": [
      "[]\n",
      "[1]\n",
      "[2, 2]\n",
      "[3, 3, 3]\n",
      "[4, 4, 4, 4]\n",
      "----\n",
      "1\n",
      "2\n",
      "2\n",
      "3\n",
      "3\n",
      "3\n",
      "4\n",
      "4\n",
      "4\n",
      "4\n"
     ]
    }
   ],
   "source": [
    "chan = IterChannel(xrange(5))\n",
    "map_chan = chan.map(lambda x: [x for i in range(x)])\n",
    "flat_map_chan = chan.tee().flat_map(lambda x: [x for i in range(x)])\n",
    "print_chans(map_chan)\n",
    "print('----')\n",
    "print_chans(flat_map_chan)"
   ]
  },
  {
   "cell_type": "markdown",
   "metadata": {},
   "source": [
    "Note also the care taken"
   ]
  },
  {
   "cell_type": "markdown",
   "metadata": {},
   "source": [
    "## FilterChannel [.filter(predicate)]"
   ]
  },
  {
   "cell_type": "markdown",
   "metadata": {},
   "source": [
    "A `FilterChannel` wraps another channel and applies a function to each of the elements in the underlying channel, passing through the element only if the function return true."
   ]
  },
  {
   "cell_type": "code",
   "execution_count": 11,
   "metadata": {
    "collapsed": false
   },
   "outputs": [
    {
     "name": "stdout",
     "output_type": "stream",
     "text": [
      "0\n",
      "2\n",
      "4\n"
     ]
    }
   ],
   "source": [
    "chan = IterChannel(xrange(5)).filter(lambda x: x % 2 == 0)\n",
    "print_chans(chan)"
   ]
  },
  {
   "cell_type": "markdown",
   "metadata": {},
   "source": [
    "And since these examples are looking a lot like the standard map/filter examples in Python tutorials, we might as well string them together!"
   ]
  },
  {
   "cell_type": "code",
   "execution_count": 12,
   "metadata": {
    "collapsed": false
   },
   "outputs": [
    {
     "name": "stdout",
     "output_type": "stream",
     "text": [
      "0\n",
      "4\n",
      "8\n"
     ]
    }
   ],
   "source": [
    "chan = IterChannel(xrange(5)).filter(lambda x: x % 2 == 0).map(lambda x: x*2)\n",
    "print_chans(chan)"
   ]
  },
  {
   "cell_type": "markdown",
   "metadata": {},
   "source": [
    "## ZipChannel [.zip(*channels)]"
   ]
  },
  {
   "cell_type": "markdown",
   "metadata": {},
   "source": [
    "A `ZipChannel` returns the items from multiple channels grouped together in a way akin to the built-in `zip` function.  In the resulting `ZipChannel`, the items in `self` and all channels specified will be zipped together on a per-item basis.  The channel on which you're invoking `zip` will be the first, and items from the other channels will follow their order of specification in parameters."
   ]
  },
  {
   "cell_type": "code",
   "execution_count": 14,
   "metadata": {
    "collapsed": false
   },
   "outputs": [
    {
     "name": "stdout",
     "output_type": "stream",
     "text": [
      "(0, 0, 0)\n",
      "(1, 2, 1)\n",
      "(2, 4, 4)\n",
      "(3, 6, 9)\n",
      "(4, 8, 16)\n"
     ]
    }
   ],
   "source": [
    "chan1 = IterChannel(xrange(5))\n",
    "chan2 = chan1.tee().map(lambda x: x * 2)\n",
    "chan3 = chan1.tee().map(lambda x: x ** 2)\n",
    "print_chans(chan1.zip(chan2, chan3))"
   ]
  },
  {
   "cell_type": "markdown",
   "metadata": {},
   "source": [
    "## ChainChannel [.chain(*channels)]"
   ]
  },
  {
   "cell_type": "markdown",
   "metadata": {},
   "source": [
    "A `ChainChannel` simply chains together multiple channels into one channel, as though concatenating them."
   ]
  },
  {
   "cell_type": "code",
   "execution_count": 16,
   "metadata": {
    "collapsed": false
   },
   "outputs": [
    {
     "name": "stdout",
     "output_type": "stream",
     "text": [
      "0\n",
      "1\n",
      "2\n",
      "10\n",
      "11\n",
      "12\n",
      "100\n",
      "101\n",
      "102\n"
     ]
    }
   ],
   "source": [
    "print_chans(IterChannel(xrange(3)).chain(IterChannel(xrange(10,13)), IterChannel(xrange(100,103))))"
   ]
  },
  {
   "cell_type": "markdown",
   "metadata": {},
   "source": [
    "## ObserveChannel [.observe(observer)]"
   ]
  },
  {
   "cell_type": "markdown",
   "metadata": {},
   "source": [
    "An `ObserveChannel` wraps another channel and passes along its items untouched, but also has the opportunity to run its `observer` function against them."
   ]
  },
  {
   "cell_type": "code",
   "execution_count": 19,
   "metadata": {
    "collapsed": false
   },
   "outputs": [
    {
     "name": "stdout",
     "output_type": "stream",
     "text": [
      "I saw 0\n",
      "0\n",
      "I saw 1\n",
      "1\n",
      "I saw 2\n",
      "2\n"
     ]
    }
   ],
   "source": [
    "print_chans(IterChannel(xrange(3)).observe(lambda x: print('I saw %d' % x)))"
   ]
  },
  {
   "cell_type": "markdown",
   "metadata": {},
   "source": [
    "That's it for basic c"
   ]
  },
  {
   "cell_type": "code",
   "execution_count": null,
   "metadata": {
    "collapsed": true
   },
   "outputs": [],
   "source": []
  },
  {
   "cell_type": "code",
   "execution_count": null,
   "metadata": {
    "collapsed": true
   },
   "outputs": [],
   "source": []
  }
 ],
 "metadata": {
  "kernelspec": {
   "display_name": "Python 2",
   "language": "python",
   "name": "python2"
  },
  "language_info": {
   "codemirror_mode": {
    "name": "ipython",
    "version": 2
   },
   "file_extension": ".py",
   "mimetype": "text/x-python",
   "name": "python",
   "nbconvert_exporter": "python",
   "pygments_lexer": "ipython2",
   "version": "2.7.11"
  }
 },
 "nbformat": 4,
 "nbformat_minor": 0
}
